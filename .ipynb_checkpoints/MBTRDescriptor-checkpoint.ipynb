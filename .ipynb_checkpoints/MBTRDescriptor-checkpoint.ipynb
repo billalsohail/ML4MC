{
 "cells": [
  {
   "cell_type": "markdown",
   "id": "fb40f66c",
   "metadata": {},
   "source": [
    "# MBTR descriptor "
   ]
  },
  {
   "cell_type": "markdown",
   "id": "dc5b1409",
   "metadata": {},
   "source": [
    "In this notebook we examine the Many-body Tensor representation as a descriptor and assess the performance."
   ]
  },
  {
   "cell_type": "code",
   "execution_count": null,
   "id": "882c5f02",
   "metadata": {},
   "outputs": [],
   "source": [
    "! pip install dscribe  # Downloads needed modules\n",
    "! pip install ase\n",
    "\n",
    "# -------------------------------------------------------\n",
    "\n",
    "import io\n",
    "from datetime import datetime\n",
    "import zipfile\n",
    "\n",
    "import numpy as np\n",
    "import pandas as pd\n",
    "import matplotlib.pyplot as plt\n",
    "import seaborn as sns\n",
    "\n",
    "import requests\n",
    "from ase.io import read\n",
    "from sklearn.model_selection import train_test_split\n",
    "\n",
    "def download_published_data():\n",
    "  \"\"\"Downloads and unzips data folder.\n",
    "  \"\"\"\n",
    "\n",
    "\n",
    "    start = datetime.now()\n",
    "    print(start)\n",
    "    r = requests.get('https://people.bath.ac.uk/crh53/m1507656.zip')\n",
    "    zipped = zipfile.ZipFile(io.BytesIO(r.content))\n",
    "    zipped.extractall('')\n",
    "    finish = datetime.now()\n",
    "    print(finish)\n",
    "    print(finish - start)\n",
    "\n",
    "def xyz_str_to_atoms(xyz_str):\n",
    "    \"\"\"\n",
    "    Convert a xyz file to an ASE atoms object via in-memory file (StringIO).\n",
    "    \"\"\"\n",
    "    f = io.StringIO()\n",
    "    f.write(xyz_str)\n",
    "    f.seek(0)\n",
    "    atoms = read(f, format=\"xyz\")\n",
    "    return atoms\n",
    "\n",
    "# -------------------------------------------------------\n",
    "\n",
    "print('Downloading data...')\n",
    "download_published_data()  # downloads needed data\n",
    "% cd m1507656\n",
    "\n",
    "from helpers import get_level  # needs to go here as wont have been downloaded earlier in\n",
    "\n",
    "print('Loading data...')\n",
    "df = pd.read_json('df_5k.json', orient='split')\n",
    "\n",
    "print('Generating `ase.Atoms` objects...')\n",
    "df['atoms'] = df['xyz_pbe_relaxed'].apply(xyz_str_to_atoms)\n",
    "\n",
    "print('Extracting HOMO from data...')\n",
    "df['HOMO'] = df.apply(lambda row: get_level(row, level_type='HOMO', subset='GOWO_at_PBE0_cbs'), axis=1)\n",
    "\n",
    "print('Splitting data set...')\n",
    "train, test = train_test_split(df, test_size=0.2, random_state=20210817)\n",
    "train_atoms, test_atoms = train['atoms'].to_list(), test['atoms'].to_list()\n",
    "\n",
    "print('Data Processing Complete')\n",
    "print('#', '-'*119)"
   ]
  },
  {
   "cell_type": "code",
   "execution_count": null,
   "id": "d75075c3",
   "metadata": {},
   "outputs": [],
   "source": [
    "atomic_numbers = df['atoms'].apply(lambda x: x.numbers)\n",
    "unique_atomic_numbers = set([a for b in atomic_numbers for a in b])\n",
    "num_atoms = atomic_numbers.apply(len)\n",
    "max_num_atoms = num_atoms.max()\n",
    "\n",
    "print(unique_atomic_numbers)\n",
    "print(max_num_atoms)"
   ]
  },
  {
   "cell_type": "markdown",
   "id": "d804a456",
   "metadata": {},
   "source": [
    "MBTR Generation\n",
    "\n",
    "Going to try the k2 and k3 separately for the moment to see how that turns out\n",
    "Rough testing indicates k2 is more reliable feature (also faster to calculate and produces smaller feature vector making resultant model training and assessment much quicker)\n",
    "Do a quick t-SNE visualisation on a subsample"
   ]
  },
  {
   "cell_type": "code",
   "execution_count": null,
   "id": "05c5c941",
   "metadata": {},
   "outputs": [],
   "source": [
    "import matplotlib.pyplot as plt\n",
    "import seaborn as sns\n",
    "from sklearn.manifold import TSNE\n",
    "from dscribe.descriptors import MBTR"
   ]
  },
  {
   "cell_type": "code",
   "execution_count": null,
   "id": "1e7954fb",
   "metadata": {},
   "outputs": [],
   "source": [
    "n = 35\n",
    "\n",
    "feature_calc = MBTR(\n",
    "    species=unique_atomic_numbers,\n",
    "    k2={\n",
    "        \"geometry\": {\"function\": \"inverse_distance\"},\n",
    "        \"grid\": {\"min\": 0, \"max\": 1, \"n\": n, \"sigma\": 0.1},\n",
    "        \"weighting\": {\"function\": \"exp\", \"scale\": 0.5, \"threshold\": 1e-3},\n",
    "    },\n",
    "    periodic=False,\n",
    "    normalization=\"l2_each\",\n",
    ")"
   ]
  },
  {
   "cell_type": "code",
   "execution_count": null,
   "id": "79b38f82",
   "metadata": {},
   "outputs": [],
   "source": [
    "mol = df['atoms'].iloc[0]\n",
    "out = feature_calc.create(mol, n_jobs=-1)\n",
    "\n",
    "print(len(mol), n, '-->', out.shape)"
   ]
  },
  {
   "cell_type": "code",
   "execution_count": null,
   "id": "b5856d72",
   "metadata": {},
   "outputs": [],
   "source": [
    "print('Generating features...')\n",
    "X_train, X_test = (np.vstack([feature_calc.create(a) for a in d]) for d in (train_atoms, test_atoms))\n",
    "print('Features generated.')"
   ]
  },
  {
   "cell_type": "code",
   "execution_count": null,
   "id": "52f6331e",
   "metadata": {},
   "outputs": [],
   "source": [
    "level = 'HOMO'\n",
    "y_train, y_test = (d[level].values for d in (train, test))"
   ]
  },
  {
   "cell_type": "code",
   "execution_count": null,
   "id": "135ca06e",
   "metadata": {},
   "outputs": [],
   "source": [
    "from sklearn.kernel_ridge import KernelRidge\n",
    "from sklearn.model_selection import GridSearchCV\n",
    "from sklearn.preprocessing import StandardScaler\n",
    "from sklearn.pipeline import Pipeline\n",
    "from sklearn.metrics import mean_squared_error, r2_score, mean_absolute_error\n",
    "from sklearn.dummy import DummyRegressor\n",
    "\n",
    "pipe = Pipeline([\n",
    "              ('x_norm', StandardScaler()),\n",
    "              ('estimator', KernelRidgeRegressor())\n",
    "])\n",
    "   \n",
    "\n",
    "# iterate through different alpha values and generate train test curves for them\n",
    "\n",
    "parameters = [{\n",
    "    'estimator__alpha': np.logspace(-6, 3, 10),\n",
    "    'estimator__gamma': np.logspace(-3, 3, 7),\n",
    "    'estimator__kernel': ['rbf', 'laplacian']\n",
    "}]\n",
    "\n",
    "grid = GridSearchCV(pipe, param_grid=parameters, scoring='neg_mean_absolute_error', n_jobs=-1, cv=3, verbose=4)\n",
    "grid.fit(X_train, y_train)"
   ]
  },
  {
   "cell_type": "code",
   "execution_count": null,
   "id": "78e2d07d",
   "metadata": {},
   "outputs": [],
   "source": [
    "results = pd.DataFrame(grid.cv_results_).sort_values(by='rank_test_score')\n",
    "results.head()"
   ]
  },
  {
   "cell_type": "code",
   "execution_count": null,
   "id": "f7b55171",
   "metadata": {},
   "outputs": [],
   "source": [
    "estimator = grid.best_estimator_\n",
    "print(estimator)"
   ]
  },
  {
   "cell_type": "code",
   "execution_count": null,
   "id": "123b3e8b",
   "metadata": {},
   "outputs": [],
   "source": [
    "X_tr, X_cv, y_tr, y_cv = train_test_split(X_train, y_train, test_size=0.2, random_state=20210820)"
   ]
  },
  {
   "cell_type": "code",
   "execution_count": null,
   "id": "3ec3fbcd",
   "metadata": {},
   "outputs": [],
   "source": [
    "dummy = DummyRegressor()  # for reference\n",
    "dummy.fit(X_tr, y_tr)\n",
    "estimator.fit(X_tr, y_tr)\n",
    "\n",
    "\n",
    "for mdl, label in zip((estimator, dummy), ('KRR', 'Dummy')):\n",
    "    print()\n",
    "    print(label, '------------------------------------')\n",
    "\n",
    "for s, X_ref, y_ref in zip(('train', 'cv'), (X_tr, X_cv), (y_tr, y_cv)):\n",
    "    pred = mdl.predict(X_ref)\n",
    "    mae = mean_absolute_error(y_ref, pred)\n",
    "    mse = mean_squared_error(y_ref, pred)\n",
    "    r2 = r2_score(y_ref, pred)\n",
    "\n",
    "    print(F'{s} : mae={mae:.3f}, mse={mse:.3f}, r2={r2:.3f}')"
   ]
  },
  {
   "cell_type": "code",
   "execution_count": null,
   "id": "2614a6dd",
   "metadata": {},
   "outputs": [],
   "source": [
    "db_sizes = [10, 100, 1000, 2000, 3000]\n",
    "scores = {'train':[[] for _ in db_sizes], 'test':[[] for _ in db_sizes]}\n",
    "\n",
    "for index, size in enumerate(db_sizes):\n",
    "    print(size)\n",
    "for _ in range(3):\n",
    "    print('\\t', _)\n",
    "    Xa, Xb, ya, yb  = train_test_split(X_train, y_train, train_size=size)\n",
    "    estimator.fit(Xa, ya)\n",
    "    tr_pred = estimator.predict(Xa)\n",
    "    cv_pred = estimator.predict(Xb)\n",
    "\n",
    "    scores['train'][index].append(mean_absolute_error(ya, tr_pred))\n",
    "    scores['test'][index].append(mean_absolute_error(yb, cv_pred))\n",
    "     "
   ]
  },
  {
   "cell_type": "code",
   "execution_count": null,
   "id": "e9281e18",
   "metadata": {},
   "outputs": [],
   "source": [
    "train_scores = np.array(scores['train'])\n",
    "test_scores = np.array(scores['test'])\n",
    "\n",
    "plt.figure(figsize=(10, 5))\n",
    "plt.scatter(db_sizes, train_scores.mean(1), marker='o', label='train', s=80, c='b')\n",
    "plt.plot(db_sizes, train_scores.mean(1), 'b--')\n",
    "plt.scatter(db_sizes, test_scores.mean(1), marker='o', label='test', s=80, c='r')\n",
    "plt.plot(db_sizes, test_scores.mean(1), 'r--')\n",
    "plt.legend()\n",
    "plt.xlabel('Training Set Size (# entries)', size=15)\n",
    "plt.ylabel('MAE (eV)', size=15)\n",
    "plt.ylim(0, 0.65)\n",
    "plt.grid()\n",
    "plt.savefig('MBTR_krr_overfit.png', bbox_inches=None)\n",
    "plt.show()"
   ]
  },
  {
   "cell_type": "code",
   "execution_count": null,
   "id": "d9ab9dc8",
   "metadata": {},
   "outputs": [],
   "source": [
    "# data for final parity plot\n",
    "estimator.fit(X_train, y_train)\n",
    "y_pred_train = estimator.predict(X_train)\n",
    "y_pred_test = estimator.predict(X_test)"
   ]
  },
  {
   "cell_type": "code",
   "execution_count": null,
   "id": "f85e7570",
   "metadata": {},
   "outputs": [],
   "source": [
    "print(F'Train : mae={mean_absolute_error(y_train, y_pred_train):.3f}, mse={mean_squared_error(y_train, y_pred_train):.3f}, r2={r2_score(y_train, y_pred_train):.3f}')\n",
    "print(F'Test  : mae={mean_absolute_error(y_test, y_pred_test):.3f}, mse={mean_squared_error(y_test, y_pred_test):.3f}, r2={r2_score(y_test, y_pred_test):.3f}')"
   ]
  },
  {
   "cell_type": "code",
   "execution_count": null,
   "id": "c9a7a760",
   "metadata": {},
   "outputs": [],
   "source": [
    "plt.figure(figsize=(15, 5))\n",
    "\n",
    "arrs = [[y_pred_train, y_train], [y_pred_test, y_test]]\n",
    "labels = ['Train', 'Test']\n",
    "colors = ['b', 'r']\n",
    "r2_vals = [0.919, 0.710]\n",
    "\n",
    "for count, (pred, ref) in enumerate(arrs):\n",
    "    plt.subplot(1, 2, count+1)\n",
    "    plt.title(F'{labels[count]}', size=17)\n",
    "    plt.plot(pred, ref, 'o', alpha=0.5, c=colors[count])\n",
    "    plt.plot([-12.5, -5.5], [-12.5, -5.5], 'k-', label=F'\n",
    "    plt.xlabel(F'Predicted (eV)', size=15)\n",
    "    plt.ylabel('Reference (eV)', size=15)\n",
    "    plt.xlim(-13, -5)\n",
    "    plt.ylim(-13, -5)\n",
    "    plt.grid(linestyle='--')\n",
    "    plt.legend(loc='upper left')\n",
    "plt.savefig('parity_plots.png', bbox_inches=None)\n",
    "plt.show()"
   ]
  },
  {
   "cell_type": "code",
   "execution_count": null,
   "id": "f621340e",
   "metadata": {},
   "outputs": [],
   "source": []
  },
  {
   "cell_type": "code",
   "execution_count": null,
   "id": "e32a0566",
   "metadata": {},
   "outputs": [],
   "source": []
  },
  {
   "cell_type": "code",
   "execution_count": null,
   "id": "73586a13",
   "metadata": {},
   "outputs": [],
   "source": []
  },
  {
   "cell_type": "code",
   "execution_count": null,
   "id": "c3a19cfe",
   "metadata": {},
   "outputs": [],
   "source": []
  }
 ],
 "metadata": {
  "kernelspec": {
   "display_name": "Python 3 (ipykernel)",
   "language": "python",
   "name": "python3"
  },
  "language_info": {
   "codemirror_mode": {
    "name": "ipython",
    "version": 3
   },
   "file_extension": ".py",
   "mimetype": "text/x-python",
   "name": "python",
   "nbconvert_exporter": "python",
   "pygments_lexer": "ipython3",
   "version": "3.9.13"
  },
  "toc": {
   "base_numbering": 1,
   "nav_menu": {},
   "number_sections": true,
   "sideBar": true,
   "skip_h1_title": false,
   "title_cell": "Table of Contents",
   "title_sidebar": "Contents",
   "toc_cell": false,
   "toc_position": {},
   "toc_section_display": true,
   "toc_window_display": false
  }
 },
 "nbformat": 4,
 "nbformat_minor": 5
}
