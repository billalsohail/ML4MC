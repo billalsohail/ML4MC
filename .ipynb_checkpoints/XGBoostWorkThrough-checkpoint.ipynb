{
 "cells": [
  {
   "cell_type": "code",
   "execution_count": null,
   "id": "7ce66ada",
   "metadata": {},
   "outputs": [],
   "source": [
    "! wget https://repo.anaconda.com/miniconda/Miniconda3-py37_4.8.2-Linux-x86_64.sh\n",
    "! chmod +x Miniconda3-py37_4.8.2-Linux-x86_64.sh\n",
    "! bash ./Miniconda3-py37_4.8.2-Linux-x86_64.sh -b -f -p /usr/local\n",
    "import sys\n",
    "sys.path.append('/usr/local/lib/python3.7/site-packages/')\n",
    "\n",
    "! conda install -yq -c rdkit rdkit   # need for fingerprints\n",
    "! conda install -yq -c conda-forge xgboost  # sklearn implementation inefficient\n",
    "! conda install -yq -c conda-forge tqdm\n",
    "\n",
    "\n",
    "def download_published_data():\n",
    "  import io\n",
    "  from datetime import datetime\n",
    "  import zipfile\n",
    "\n",
    "  import requests\n",
    "\n",
    "  start = datetime.now()\n",
    "  print(start)\n",
    "  r = requests.get('https://people.bath.ac.uk/crh53/m1507656.zip')\n",
    "  zipped = zipfile.ZipFile(io.BytesIO(r.content))\n",
    "  zipped.extractall('')\n",
    "  finish = datetime.now()\n",
    "  print(finish)\n",
    "  print(finish - start)\n",
    "\n",
    "download_published_data()\n",
    "% cd m1507656/"
   ]
  },
  {
   "cell_type": "code",
   "execution_count": null,
   "id": "76d79ace",
   "metadata": {},
   "outputs": [],
   "source": [
    "import io\n",
    "\n",
    "import pandas as pd\n",
    "import numpy as np\n",
    "import matplotlib.pyplot as plt\n",
    "\n",
    "from tqdm import tqdm\n",
    "\n",
    "from sklearn.model_selection import train_test_split\n",
    "from sklearn.metrics import pairwise_distances\n",
    "from sklearn.manifold import TSNE\n",
    "\n",
    "from rdkit.Chem import MolFromSmiles\n",
    "from rdkit.Chem import AllChem, DataStructs\n",
    "from xgboost.sklearn import XGBRegressor\n",
    "\n",
    "from helpers import get_level\n",
    "     "
   ]
  },
  {
   "cell_type": "code",
   "execution_count": null,
   "id": "46b73c8a",
   "metadata": {},
   "outputs": [],
   "source": [
    "df = pd.read_json('df_62k.json', orient='split')\n",
    "df.head()"
   ]
  },
  {
   "cell_type": "code",
   "execution_count": null,
   "id": "ae923f87",
   "metadata": {},
   "outputs": [],
   "source": [
    "prior_len = len(df)\n",
    "\n",
    "df['rdkit'] = df['canonical_smiles'].apply(MolFromSmiles)\n",
    "df = df[~df['rdkit'].isna()]  # exclude invalid smiles codes\n",
    "\n",
    "post_len = len(df)\n",
    "\n",
    "print(F'{post_len} rdkit molecules generated')\n",
    "print(F'Rows dropped = {prior_len - post_len}')"
   ]
  },
  {
   "cell_type": "code",
   "execution_count": null,
   "id": "553967a1",
   "metadata": {},
   "outputs": [],
   "source": [
    "def mol_to_ecfp(mol, r=3, b=1024):\n",
    "    \"\"\"Generate ecfp for passed rdkit mol\n",
    "    mol : rdkit.chem.Mol\n",
    "    r : int (radius of ECFP)\n",
    "      for convention, ECFP --> ECFP<2R> hence radius is passed.\n",
    "    b : int\n",
    "      Number of bits to use\n",
    "    \"\"\"\n",
    "    fp = AllChem.GetMorganFingerprintAsBitVect(mol, r, nBits=b)\n",
    "    array = np.zeros((0,), dtype=np.int8)\n",
    "    DataStructs.ConvertToNumpyArray(fp, array)\n",
    "    return array\n",
    "\n",
    "df['fingerprint'] = df['rdkit'].apply(mol_to_ecfp)"
   ]
  },
  {
   "cell_type": "code",
   "execution_count": null,
   "id": "49a3fe28",
   "metadata": {},
   "outputs": [],
   "source": [
    "X = np.vstack(df['fingerprint'].values)\n",
    "y = df.apply(lambda row: get_level(row, level_type='HOMO', subset='PBE+vdW_vacuum'), axis=1).values\n",
    "\n",
    "print(np.isnan(y).sum())"
   ]
  },
  {
   "cell_type": "code",
   "execution_count": null,
   "id": "01ad0613",
   "metadata": {},
   "outputs": [],
   "source": [
    "X_train, X_test, y_train, y_test = train_test_split(X, y, test_size=0.1, random_state=20210817)"
   ]
  },
  {
   "cell_type": "code",
   "execution_count": null,
   "id": "0fb059d7",
   "metadata": {},
   "outputs": [],
   "source": [
    "plt.figure(figsize=(20, 5))\n",
    "\n",
    "plt.subplot(1, 2, 1)\n",
    "plt.hist(y_train, bins=50, color='r', edgecolor='k')\n",
    "plt.title(F'Distribution of HOMO energy calculated using PBE+vdW_vacuum')\n",
    "plt.xlabel('Energy (eV')\n",
    "plt.ylabel('PDF')\n",
    "\n",
    "plt.subplot(1, 2, 2)\n",
    "plt.hist(X_train.sum(1), bins=50, color='b', edgecolor='k')\n",
    "plt.title('Histograph of `ON` bits')\n",
    "plt.xlabel('# ON bits in molecule')\n",
    "plt.ylabel('PDF')\n",
    "\n",
    "plt.show()"
   ]
  },
  {
   "cell_type": "code",
   "execution_count": null,
   "id": "1370393c",
   "metadata": {},
   "outputs": [],
   "source": [
    "sub_sample = np.random.choice(len(X_train), 5000, replace=False)\n",
    "X_train_sample, y_train_sample = X_train[sub_sample], y_train[sub_sample]\n",
    "\n",
    "similarities = 1 - pairwise_distances(X_train_sample, X_train_sample, metric='jaccard', n_jobs=-1)"
   ]
  },
  {
   "cell_type": "code",
   "execution_count": null,
   "id": "f7ecbdac",
   "metadata": {},
   "outputs": [],
   "source": [
    "sample = np.random.choice(similarities.ravel(), 20000, replace=False)\n",
    "\n",
    "plt.figure(figsize=(15, 7))\n",
    "plt.hist(sample, bins=100, edgecolor=\"black\")\n",
    "plt.title('Inter-species Tanimoto Similairty w.r.t. ECFP6_1024')\n",
    "plt.xlabel('Tanimoto Similarity')\n",
    "plt.ylabel('PDF')\n",
    "plt.show()\n",
    "     "
   ]
  },
  {
   "cell_type": "code",
   "execution_count": null,
   "id": "b89a0224",
   "metadata": {},
   "outputs": [],
   "source": [
    "\n",
    "reducer = TSNE(metric='jaccard', n_components=2)  # 2 output columns\n",
    "embedding = reducer.fit_transform(X_train_sample)\n",
    "\n",
    "plt.figure(figsize=(15, 7))\n",
    "plt.title('t-SNE visualisation of ECFP6_1024')\n",
    "p = plt.scatter(embedding[:, 0], embedding[:, 1], c=y_train_sample, cmap='RdYlGn_r')\n",
    "cbar = plt.colorbar(p)\n",
    "cbar.set_label('HOMO : PBE+vdW_vacuum (eV)')\n",
    "plt.xlabel('X1')\n",
    "plt.ylabel('X2', rotation=0)\n",
    "plt.tight_layout()\n",
    "plt.show()"
   ]
  },
  {
   "cell_type": "code",
   "execution_count": null,
   "id": "9eb29d2c",
   "metadata": {},
   "outputs": [],
   "source": [
    "from sklearn.metrics import mean_absolute_error\n",
    "from sklearn.dummy import DummyRegressor\n",
    "\n",
    "model = XGBRegressor(objective='reg:squarederror')"
   ]
  },
  {
   "cell_type": "code",
   "execution_count": null,
   "id": "924727a3",
   "metadata": {},
   "outputs": [],
   "source": [
    "X_tr, X_cv, y_tr, y_cv = train_test_split(X_train, y_train, test_size=0.2)"
   ]
  },
  {
   "cell_type": "code",
   "execution_count": null,
   "id": "ae9104ba",
   "metadata": {},
   "outputs": [],
   "source": [
    "model.fit(X_tr, y_tr)"
   ]
  },
  {
   "cell_type": "code",
   "execution_count": null,
   "id": "c956217d",
   "metadata": {},
   "outputs": [],
   "source": [
    "y_pred_cv = model.predict(X_cv)\n",
    "xgb_error_cv = mean_absolute_error(y_cv, y_pred_cv)\n",
    "xgb_error_tr = mean_absolute_error(y_tr, model.predict(X_tr))"
   ]
  },
  {
   "cell_type": "code",
   "execution_count": null,
   "id": "158fa9af",
   "metadata": {},
   "outputs": [],
   "source": [
    "print(F'TR : Baseline XGBoost MAE = {xgb_error_tr:.3f} eV')\n",
    "print(F'CV : Baseline XGBoost MAE = {xgb_error_cv:.3f} eV')"
   ]
  },
  {
   "cell_type": "code",
   "execution_count": null,
   "id": "6929b993",
   "metadata": {},
   "outputs": [],
   "source": [
    "dummy = DummyRegressor(strategy='mean')\n",
    "dummy.fit(X_tr, y_tr)\n",
    "y_pred_cv_dum = dummy.predict(X_cv)\n",
    "dummy_error_cv = mean_absolute_error(y_cv, y_pred_cv_dum)\n",
    "dummy_error_tr = mean_absolute_error(y_tr, dummy.predict(X_tr))\n",
    "\n",
    "print(F'TR : Mean prediction MAE = {dummy_error_tr:.3f} eV')\n",
    "print(F'CV : Mean prediction MAE = {dummy_error_cv:.3f} eV')"
   ]
  },
  {
   "cell_type": "code",
   "execution_count": null,
   "id": "4d147845",
   "metadata": {},
   "outputs": [],
   "source": [
    "plt.figure(figsize=(15,7))\n",
    "plt.title('Distributions of base model predictions')\n",
    "plt.hist(y_cv, bins=50, color='g', edgecolor='k', label='y')\n",
    "plt.hist(y_pred_cv, bins=50, color='b', edgecolor='k', label='XGB')\n",
    "plt.axvline(y_pred_cv_dum[0], color='r', label='μpred')\n",
    "\n",
    "plt.xlabel('PDF')\n",
    "plt.ylabel('HOMO (eV)')\n",
    "\n",
    "plt.legend()\n",
    "plt.grid(linestyle='--', alpha=0.6, color='k')\n",
    "\n",
    "plt.show()"
   ]
  },
  {
   "cell_type": "code",
   "execution_count": null,
   "id": "abc2b93f",
   "metadata": {},
   "outputs": [],
   "source": [
    "data_scores = {'train': [], 'test': []}\n",
    "\n",
    "data_sizes = [10, 100, 1000, 10000, 20000, 40000]\n",
    "potential_indices = np.arange(len(X_train))\n",
    "\n",
    "for d in tqdm(data_sizes):\n",
    "    for _ in range(4):\n",
    "\n",
    "        tr_sample = np.random.choice(potential_indices, size=d, replace=False)\n",
    "        cv_sample = np.delete(potential_indices, tr_sample)\n",
    "\n",
    "        X_tr, y_tr = X_train[tr_sample], y_train[tr_sample]\n",
    "        X_cv, y_cv = X_train[cv_sample], y_train[cv_sample]\n",
    "\n",
    "        model = XGBRegressor(objective='reg:squarederror')\n",
    "\n",
    "        model.fit(X_tr, y_tr)\n",
    "        tr_score = mean_absolute_error(y_tr, model.predict(X_tr))\n",
    "        cv_score = mean_absolute_error(y_cv, model.predict(X_cv))\n",
    "\n",
    "        data_scores['train'].append(tr_score)\n",
    "        data_scores['test'].append(cv_score)"
   ]
  },
  {
   "cell_type": "code",
   "execution_count": null,
   "id": "183a5141",
   "metadata": {},
   "outputs": [],
   "source": [
    "repeated_sizes = sorted(data_sizes * 4)  # cheating because can just sort the values here rather than iterating\n",
    "repeated_sizes_log = np.log10(repeated_sizes)  # cheating because can just sort the values here rather than iterating"
   ]
  },
  {
   "cell_type": "code",
   "execution_count": null,
   "id": "a6c0c643",
   "metadata": {},
   "outputs": [],
   "source": [
    "plt.figure(figsize=(25, 7))\n",
    "\n",
    "plt.subplot(1, 2, 1)\n",
    "plt.title('TR / CV curve for XBGRegressor (Standard)')\n",
    "plt.plot(repeated_sizes, data_scores['train'], '-o', label='train')\n",
    "plt.plot(repeated_sizes, data_scores['test'], '-o', label='cv')\n",
    "plt.xlabel('Training Set Size')\n",
    "plt.ylabel('MAE (eV)')\n",
    "plt.grid(alpha=0.6, color='k', linestyle='--')\n",
    "plt.legend()\n",
    "\n",
    "plt.subplot(1, 2, 2)\n",
    "plt.title('TR / CV curve for XBGRegressor (log10)')\n",
    "plt.plot(repeated_sizes_log, data_scores['train'], '-o', label='train')\n",
    "plt.plot(repeated_sizes_log, data_scores['test'], '-o', label='cv')\n",
    "plt.xlabel('Training Set Size (log10)')\n",
    "plt.ylabel('MAE (eV)')\n",
    "plt.grid(alpha=0.6, color='k', linestyle='--')\n",
    "plt.legend()\n",
    "\n",
    "plt.tight_layout()\n",
    "plt.show()"
   ]
  },
  {
   "cell_type": "code",
   "execution_count": null,
   "id": "438f546f",
   "metadata": {},
   "outputs": [],
   "source": [
    "scores = {'train': [], 'test': []}\n",
    "\n",
    "depths = list(range(1, 6))\n",
    "\n",
    "for d in tqdm(depths):\n",
    "    X_tr, X_cv, y_tr, y_cv = train_test_split(X_train, y_train, test_size=0.2)\n",
    "\n",
    "    model = XGBRegressor(objective='reg:squarederror', max_depth=d)\n",
    "    model.fit(X_tr, y_tr)\n",
    "    tr_score = mean_absolute_error(y_tr, model.predict(X_tr))\n",
    "    cv_score = mean_absolute_error(y_cv, model.predict(X_cv))\n",
    "\n",
    "    scores['train'].append(tr_score)\n",
    "    scores['test'].append(cv_score)"
   ]
  },
  {
   "cell_type": "code",
   "execution_count": null,
   "id": "289dd1fa",
   "metadata": {},
   "outputs": [],
   "source": [
    "plt.figure(figsize=(15, 5))\n",
    "plt.title('Train / Test Curves for XGBRegressor')\n",
    "plt.plot(depths, scores['train'], '-o', label='train')\n",
    "plt.plot(depths, scores['test'], '-o', label='test')\n",
    "plt.xlabel('Max Depth')\n",
    "plt.ylabel('MAE (eV)')\n",
    "plt.grid(alpha=0.6, color='k', linestyle='--')\n",
    "plt.legend()\n",
    "plt.ylim(0.2, 0.4)\n",
    "plt.show()\n",
    "     "
   ]
  },
  {
   "cell_type": "markdown",
   "id": "12e6905a",
   "metadata": {},
   "source": [
    "\n",
    "Conclusions\n",
    "\n",
    "Generated ECFP6_1024 fingerprints for 61,000 molecules\n",
    "Used these to try and predict the HOMO energy levels for these molecules using the PBE+vdW_vacuum level of theory\n",
    "While initial prediction results were promising (i.e. some relationship was observed which allowed a better than \"crude\" approach) overall the XGBoost regressor was found to suffer from bias\n",
    "Solving this bias could be likely be achieved by the use of more electrostatic based descriptors"
   ]
  },
  {
   "cell_type": "code",
   "execution_count": null,
   "id": "c00c80f9",
   "metadata": {},
   "outputs": [],
   "source": []
  }
 ],
 "metadata": {
  "kernelspec": {
   "display_name": "Python 3 (ipykernel)",
   "language": "python",
   "name": "python3"
  },
  "language_info": {
   "codemirror_mode": {
    "name": "ipython",
    "version": 3
   },
   "file_extension": ".py",
   "mimetype": "text/x-python",
   "name": "python",
   "nbconvert_exporter": "python",
   "pygments_lexer": "ipython3",
   "version": "3.9.13"
  },
  "toc": {
   "base_numbering": 1,
   "nav_menu": {},
   "number_sections": true,
   "sideBar": true,
   "skip_h1_title": false,
   "title_cell": "Table of Contents",
   "title_sidebar": "Contents",
   "toc_cell": false,
   "toc_position": {},
   "toc_section_display": true,
   "toc_window_display": false
  }
 },
 "nbformat": 4,
 "nbformat_minor": 5
}
