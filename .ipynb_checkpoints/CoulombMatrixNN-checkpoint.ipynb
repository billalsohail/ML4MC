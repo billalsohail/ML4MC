{
 "cells": [
  {
   "cell_type": "code",
   "execution_count": null,
   "id": "6aefdfaa",
   "metadata": {},
   "outputs": [],
   "source": [
    "#Load modules and data\n",
    "\n",
    "! pip install dscribe\n",
    "import numpy as np\n",
    "import math, random\n",
    "import matplotlib.pyplot as plt\n",
    "import pandas as pd\n",
    "import json\n",
    "import seaborn as sns\n",
    "from scipy.sparse import load_npz\n",
    "from matplotlib.colors import LinearSegmentedColormap\n",
    "from sklearn.model_selection import GridSearchCV\n",
    "from sklearn.kernel_ridge import KernelRidge\n",
    "from sklearn.metrics import r2_score, mean_squared_error\n",
    "from sklearn.model_selection import train_test_split\n",
    "from dscribe.descriptors import CoulombMatrix \n",
    "from ase import *\n",
    "from ase.build import molecule\n",
    "from ase.io import read, write\n",
    "import io"
   ]
  },
  {
   "cell_type": "code",
   "execution_count": null,
   "id": "cf686dde",
   "metadata": {},
   "outputs": [],
   "source": []
  },
  {
   "cell_type": "code",
   "execution_count": null,
   "id": "f462f2c0",
   "metadata": {},
   "outputs": [],
   "source": [
    "#Lets look at a random molecule represented with a Coulomb matrix \n",
    "y = df['xyz_pbe_relaxed'].shape[0]\n",
    "# print(df['xyz_pbe_relaxed'])\n",
    "print(y)\n",
    "\n",
    "rand_mol = random.randint(0, y)\n",
    "print(df['xyz_pbe_relaxed'].iloc[rand_mol])\n",
    "mol_of_choice = df['xyz_pbe_relaxed'].iloc[rand_mol]"
   ]
  },
  {
   "cell_type": "code",
   "execution_count": null,
   "id": "27e806f1",
   "metadata": {},
   "outputs": [],
   "source": [
    "cm_desc = CoulombMatrix(n_atoms_max=52, permutation='none', flatten=False)\n",
    "mol = df['atoms'].iloc[rand_mol]\n",
    "\n",
    "matrix = cm_desc.create(mol)\n",
    "print(matrix.shape)\n",
    "\n",
    "#Lets have a look at our random molecule and visualise the CM\n",
    "plt.figure()\n",
    "plt.figure(figsize = (6,6))\n",
    "plt.imshow(matrix, origin=\"upper\", cmap='rainbow', vmin=-15, vmax=90, interpolation='nearest')\n",
    "plt.colorbar(fraction=0.046, pad=0.04).ax.tick_params(labelsize=20)\n",
    "plt.axis('off')\n",
    "plt.show()\n",
    "     "
   ]
  },
  {
   "cell_type": "code",
   "execution_count": null,
   "id": "45c5aff2",
   "metadata": {},
   "outputs": [],
   "source": [
    "plt.hist(df['HOMO'].values, bins=20, density=False, facecolor='blue')\n",
    "plt.xlabel(\"Energy [eV]\")\n",
    "plt.ylabel(\"Number of molecules\")\n",
    "plt.title(\"Distribution of HOMO energies\")\n",
    "plt.show()\n",
    "\n",
    "## mean value of distribution\n",
    "print(\"Mean value of HOMO energies in OE62 dataset: %0.2f eV\" %np.mean(df['HOMO'].values))"
   ]
  },
  {
   "cell_type": "code",
   "execution_count": null,
   "id": "33290de3",
   "metadata": {},
   "outputs": [],
   "source": [
    "train, test = train_test_split(df, test_size=0.2, random_state=20210817)\n",
    "train_atoms, test_atoms = train['atoms'].to_list(), test['atoms'].to_list()\n"
   ]
  },
  {
   "cell_type": "code",
   "execution_count": null,
   "id": "9e7acfd9",
   "metadata": {},
   "outputs": [],
   "source": [
    "#Lets visualise the data for each split to see if it resembles each other\n",
    "\n",
    "\n",
    "plt.hist(test['HOMO'].values, bins=20, density=False, alpha=0.5, facecolor='red', label='test set')\n",
    "plt.hist(train['HOMO'].values, bins=20, density=False, alpha=0.5, facecolor='gray', label='training set')\n",
    "plt.xlabel(\"Energy [eV]\")\n",
    "plt.ylabel(\"Number of molecules\")\n",
    "plt.legend()\n",
    "plt.show()\n",
    "\n",
    "## mean value of distributions\n",
    "print(\"Mean value of HOMO energies in training set: %0.2f eV\" %np.mean(train['HOMO'].values))\n",
    "print(\"Mean value of HOMO energies in test set: %0.2f eV\" %np.mean(test['HOMO'].values))"
   ]
  },
  {
   "cell_type": "code",
   "execution_count": null,
   "id": "28123eab",
   "metadata": {},
   "outputs": [],
   "source": [
    "atomic_numbers = df['atoms'].apply(lambda x: x.numbers)\n",
    "unique_atomic_numbers = set([a for b in atomic_numbers for a in b])\n",
    "max_num_atoms = atomic_numbers.apply(len).max()\n",
    "\n",
    "print(unique_atomic_numbers)\n",
    "print(max_num_atoms)\n",
    "\n",
    "feature_calc = CoulombMatrix(n_atoms_max=max_num_atoms)\n",
    "print('Generating features...')\n",
    "X_train, X_test = (np.vstack([feature_calc.create(a) for a in d]) for d in (train_atoms, test_atoms))\n",
    "print('Features generated.')\n",
    "\n",
    "\n",
    "y_train = train['HOMO'].values  # extract target value from dataframe\n",
    "y_test = test['HOMO'].values\n",
    "y_ave = np.average(y_train)\n",
    "\n",
    "#normalise data\n",
    "# y_train_tf = (y_train-y_ave)/y_ave\n",
    "# y_test_tf = (y_test-y_ave)/y_ave\n",
    "\n",
    "\n",
    "# # split the training data again intor training and cross validation sets\n",
    "# X_tr, X_cv, y_tr, y_cv = train_test_split(X_train, y_train_tf, test_size=0.2, random_state=1)\n",
    "\n",
    "# model = KernelRidge(kernel='rbf', alpha=0.01, gamma=0.01) \n",
    "# model.fit(X_tr, y_tr)\n",
    "\n",
    "# y_pred_tr = model.predict(X_tr)\n",
    "# y_pred_cv = model.predict(X_cv)\n",
    "# y_pred_ts = model.predict(X_test)\n",
    "\n",
    "# y_pred_tr = (y_pred_tr * y_ave)+y_ave\n",
    "# y_pred_cv = (y_pred_cv * y_ave)+y_ave\n",
    "# y_pred_ts = (y_pred_ts * y_ave)+y_ave\n",
    "\n",
    "\n",
    "# for s, pred, ref in zip(('train', 'cv', 'test'), (y_pred_tr, y_pred_cv, y_pred_ts), (y_tr, y_cv,y_test)):\n",
    "#   mse = mean_squared_error(ref, pred)\n",
    "#   r2 = r2_score(ref, pred)\n",
    "\n",
    "#   print(F'{s} : mse={mse:.3f}, r2={r2:.3f}')"
   ]
  },
  {
   "cell_type": "code",
   "execution_count": null,
   "id": "0ffeb9e7",
   "metadata": {},
   "outputs": [],
   "source": [
    "# --- INITIAL DEFINITIONS ---\n",
    "from sklearn.neural_network import MLPRegressor\n",
    "import numpy, math, random\n",
    "import matplotlib.pyplot as plt\n",
    "from scipy.sparse import load_npz\n",
    "from mpl_toolkits.mplot3d import Axes3D"
   ]
  },
  {
   "cell_type": "code",
   "execution_count": null,
   "id": "4b65fd7b",
   "metadata": {},
   "outputs": [],
   "source": [
    "TYPE = \"cm\"\n",
    "\n",
    "#show descriptor details\n",
    "print(\"\\nDescriptor details\")\n",
    "desc = open(\"./data/descriptor.\"+TYPE.split('.')[0]+\".txt\",\"r\").readlines()\n",
    "for l in desc: print(l.strip())\n",
    "print(\" \")"
   ]
  },
  {
   "cell_type": "code",
   "execution_count": null,
   "id": "8dbf9030",
   "metadata": {},
   "outputs": [],
   "source": [
    "# setup the neural network\n",
    "nn = MLPRegressor(hidden_layer_sizes=(1000,200,50,50),  activation='tanh', solver='lbfgs', alpha=0.01, \n",
    "                  learning_rate='adaptive')\n",
    "     "
   ]
  },
  {
   "cell_type": "code",
   "execution_count": null,
   "id": "83c3a079",
   "metadata": {},
   "outputs": [],
   "source": [
    "# use this to change some parameters during training if the NN gets stuck in a bad spot\n",
    "nn.set_params(solver='lbfgs')\n",
    "\n",
    "nn.fit(trainIn, trainOut);"
   ]
  },
  {
   "cell_type": "code",
   "execution_count": null,
   "id": "6c35ee84",
   "metadata": {},
   "outputs": [],
   "source": [
    "# evaluate the training and validation error\n",
    "trainMLOut = nn.predict(trainIn)\n",
    "validMLOut = nn.predict(validIn)\n",
    "\n",
    "print (\"Mean Abs Error (training)  : \", (numpy.abs(trainMLOut-trainOut)).mean())\n",
    "print (\"Mean Abs Error (validation): \", (numpy.abs(validMLOut-validOut)).mean())\n",
    "\n",
    "plt.plot(validOut,validMLOut,'o')\n",
    "plt.plot([min(validOut),max(validOut)],[min(validOut),max(validOut)]) # perfect fit line\n",
    "plt.xlabel('correct output')\n",
    "plt.ylabel('NN output')\n",
    "plt.show()\n",
    "\n",
    "# error histogram\n",
    "plt.hist(validMLOut-validOut,50)\n",
    "plt.xlabel(\"Error\")\n",
    "plt.ylabel(\"Occurrences\")\n",
    "plt.show()"
   ]
  },
  {
   "cell_type": "code",
   "execution_count": null,
   "id": "a241775a",
   "metadata": {},
   "outputs": [],
   "source": [
    "# plt.plot(y_pred_ts, y_test,lw=0.0,marker='.')\n",
    "# #plt.ylim(-13,-6)\n",
    "# #plt.xlim(-13,-6)\n",
    "# plt.xlabel('predicted homo energy in test set')\n",
    "# plt.ylabel('reference homo energy')\n",
    "# plt.title('G0W0 HOMO, KRR-rbf with CM, alpha=0.01, gamma=0.01')\n",
    "# plt.show()"
   ]
  },
  {
   "cell_type": "code",
   "execution_count": null,
   "id": "51d8e20a",
   "metadata": {},
   "outputs": [],
   "source": [
    "# set up grids for alpha and gamma hyperparameters. \n",
    "# first value: lower bound; second value: upper bound; \n",
    "# third value: number of points to evaluate (here set to '3' --> '-2', '-1' and '0' are evaluated)\n",
    "# --> make sure to change third value as well when changing the bounds!\n",
    "alpha = np.logspace(-5, -2, 4)\n",
    "gamma = np.logspace(-5, -2, 4)\n",
    "\n",
    "\n",
    "cv_number = 5 ## choose into how many parts training set is divided for cross-validation\n",
    "kernel = 'laplacian' # select kernel function here ('rbf': Gaussian kernel, 'laplacian': Laplacian kernel)\n",
    "scoring_function = 'neg_mean_absolute_error' # it is called \"negative\" because scikit-learn interprets\n",
    "                                             # highest scoring value as best, but we want small errors\n",
    "\n",
    "## define settings for grid search routine in scikit-learn with above defined grids as input\n",
    "\n",
    "grid_search = GridSearchCV(KernelRidge(),  #machine learning method (KRR here)\n",
    "                           [{'kernel':[kernel],'alpha': alpha, 'gamma': gamma}], \n",
    "                           cv = cv_number, \n",
    "                           scoring = scoring_function, n_jobs=2,\n",
    "                           verbose=1000)  ## produces detailed output statements of grid search \n",
    "                                          # routine so we can see what is computed\n",
    "    \n",
    "# call the fit function in scikit-learn which fits the Coulomb matrices in the training set \n",
    "# to their corresponding HOMO energies.\n",
    "\n",
    "from datetime import datetime\n",
    "start = datetime.now()\n",
    "\n",
    "grid_search.fit(X_train, y_train)\n",
    "\n",
    "\n",
    "finish = datetime.now()\n",
    "total_time = finish - start \n",
    "print(\"It took how long?\", total_time)"
   ]
  },
  {
   "cell_type": "code",
   "execution_count": null,
   "id": "c2a8fb50",
   "metadata": {},
   "outputs": [],
   "source": [
    "results = pd.DataFrame(grid_search.cv_results_)\n",
    "#pd.DataFrame(grid_search.cv_results_)\n",
    "\n",
    "pvt = pd.pivot_table(results, values='mean_test_score', \n",
    "                     index='param_gamma', columns='param_alpha')\n",
    "heatmap = sns.heatmap(-pvt, annot=True, cmap='viridis', cbar_kws={'label': \"Mean absolute error [eV]\"})\n",
    "figure = heatmap.get_figure()\n",
    "plt.savefig(\"/content/drive/MyDrive/ColabNotebooks/\"+str(\"laplacian2.png\"), dpi=400)\n",
    "\n",
    "\n",
    "print(\"The best combinations of parameters are %s with a score of %0.3f eV on the validation set.\"\n",
    "      % (grid_search.best_params_, -grid_search.best_score_))"
   ]
  },
  {
   "cell_type": "code",
   "execution_count": null,
   "id": "0db1d07b",
   "metadata": {},
   "outputs": [],
   "source": [
    "# predicted HOMO energies for all test molecules\n",
    "\n",
    "y_pred = grid_search.predict(X_test) # scikit-learn automatically takes the best combination\n",
    "                                     # of hyperparameters from grid search\n",
    "\n",
    "print(\"Mean absolute error on test set: %0.3f eV\" %(np.abs(y_pred-y_test)).mean())\n",
    "print(\"Mean square error on test set: %0.3f eV\" % mean_squared_error(y_test, y_pred)\n",
    "# do the regression plot\n",
    "plt.plot(y_pred,y_test,marker='.')\n",
    "plt.plot([np.min(y_test),np.max(y_test)], [np.min(y_test),np.max(y_test)], '-')\n",
    "plt.ylabel('prediicted HOMO energy [eV]')\n",
    "plt.xlabel('reference HOMO energy [eV]')\n",
    "lst_best_params= list(grid_search.best_params_.values())\n",
    "plt.title(\"G0W0 HOMO, KRR-Laplacian, alpha=0.01, gamma=1e-05\")\n",
    "plt.savefig(\"/content/drive/MyDrive/ColabNotebooks/\"+str(\"laplacian.png\"), dpi=400)\n",
    "print(\"R^2 score on test set: %.3f\" % r2_score(y_test, y_pred))\n",
    "     "
   ]
  },
  {
   "cell_type": "code",
   "execution_count": null,
   "id": "61b76939",
   "metadata": {},
   "outputs": [],
   "source": [
    "print(\"Mean square error on test set: %0.3f eV\" % mean_squared_error(y_test, y_pred))"
   ]
  },
  {
   "cell_type": "code",
   "execution_count": null,
   "id": "1db48256",
   "metadata": {},
   "outputs": [],
   "source": []
  },
  {
   "cell_type": "code",
   "execution_count": null,
   "id": "d44531f4",
   "metadata": {},
   "outputs": [],
   "source": []
  },
  {
   "cell_type": "code",
   "execution_count": null,
   "id": "cad32b29",
   "metadata": {},
   "outputs": [],
   "source": []
  },
  {
   "cell_type": "code",
   "execution_count": null,
   "id": "fbe3258e",
   "metadata": {},
   "outputs": [],
   "source": []
  },
  {
   "cell_type": "code",
   "execution_count": null,
   "id": "9cf4bb1d",
   "metadata": {},
   "outputs": [],
   "source": []
  },
  {
   "cell_type": "code",
   "execution_count": null,
   "id": "3fb2df51",
   "metadata": {},
   "outputs": [],
   "source": []
  },
  {
   "cell_type": "code",
   "execution_count": null,
   "id": "af9ba713",
   "metadata": {},
   "outputs": [],
   "source": []
  }
 ],
 "metadata": {
  "kernelspec": {
   "display_name": "Python 3 (ipykernel)",
   "language": "python",
   "name": "python3"
  },
  "language_info": {
   "codemirror_mode": {
    "name": "ipython",
    "version": 3
   },
   "file_extension": ".py",
   "mimetype": "text/x-python",
   "name": "python",
   "nbconvert_exporter": "python",
   "pygments_lexer": "ipython3",
   "version": "3.9.13"
  },
  "toc": {
   "base_numbering": 1,
   "nav_menu": {},
   "number_sections": true,
   "sideBar": true,
   "skip_h1_title": false,
   "title_cell": "Table of Contents",
   "title_sidebar": "Contents",
   "toc_cell": false,
   "toc_position": {},
   "toc_section_display": true,
   "toc_window_display": false
  }
 },
 "nbformat": 4,
 "nbformat_minor": 5
}
